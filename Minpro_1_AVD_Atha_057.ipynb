{
  "nbformat": 4,
  "nbformat_minor": 0,
  "metadata": {
    "colab": {
      "provenance": []
    },
    "kernelspec": {
      "name": "python3",
      "display_name": "Python 3"
    },
    "language_info": {
      "name": "python"
    }
  },
  "cells": [
    {
      "cell_type": "markdown",
      "source": [
        "# **Business Understanding**"
      ],
      "metadata": {
        "id": "Ki5sBvs2KFgL"
      }
    },
    {
      "cell_type": "markdown",
      "source": [
        "## Business Objective"
      ],
      "metadata": {
        "id": "0izV6QZiKiMr"
      }
    },
    {
      "cell_type": "markdown",
      "source": [
        "Tahapan awal ini bertujuan untuk memahami pola penjualan dan selera pelanggan dalam industri kosmetik agar strategi pemasaran bisa lebih efektif. Dengan analisis ini, platform e-commerce dan toko kosmetik dapat memberikan rekomendasi produk yang lebih sesuai dengan kebutuhan pelanggan, sehingga dapat meningkatkan kepuasan pelanggan dan penjualan."
      ],
      "metadata": {
        "id": "cY8bdAUULa76"
      }
    },
    {
      "cell_type": "markdown",
      "source": [
        "## Assess Situation"
      ],
      "metadata": {
        "id": "Mjg-9UPPL_2e"
      }
    },
    {
      "cell_type": "markdown",
      "source": [
        "Industri kosmetik punya persaingan yang ketat, tren terus berubah, dan pilihan produk di pasaran sangat banyak. Platform e-commerce dan toko kosmetik sering mengalami kesulitan dalam memahami permintaan pasar, menentukan harga yang pas, serta menyusun strategi pemasaran yang efektif. Kurangnya wawasan berbasis data bikin bisnis sulit menentukan produk yang harus diprioritaskan, sehingga potensi pelanggan bisa hilang karena rekomendasi yang kurang tepat."
      ],
      "metadata": {
        "id": "GjD3AMj8MDhd"
      }
    },
    {
      "cell_type": "markdown",
      "source": [
        "## Data Mining Goals"
      ],
      "metadata": {
        "id": "yoiWb9o0Mw_U"
      }
    },
    {
      "cell_type": "markdown",
      "source": [
        "Analisis data ini dilakukan untuk mengetahui pola penjualan produk kosmetik berdasarkan beberapa faktor seperti merek, kategori, harga, dan rating. Data ini akan membantu melihat apakah ada brand atau jenis produk tertentu yang paling diminati, serta bagaimana hubungan antara harga dan rating dalam keputusan pelanggan. Selain itu, pelanggan juga bisa dikelompokkan berdasarkan selera produk dan rentang harga yang mereka pilih. Dengan begitu, bisnis bisa menyesuaikan strategi pemasaran dan rekomendasi produk agar lebih tepat sasaran."
      ],
      "metadata": {
        "id": "C9QD7qEAMzxd"
      }
    },
    {
      "cell_type": "markdown",
      "source": [
        "## Project Plan"
      ],
      "metadata": {
        "id": "FrVJaH9QN0v8"
      }
    },
    {
      "cell_type": "markdown",
      "source": [
        "Untuk memastikan hasil analisis yang valid, tahapan ini dimulai degan proses pemeriksaan dan pembersihan data. Setelah itu, dilakukan analisis pola penjualan berdasarkan faktor-faktor seperti merek, kategori, harga, dan rating produk. Selanjutnya, data pelanggan akan dianalisis untuk melihat preferensi mereka dalam memilih produk kosmetik. Dari hasil ini, sistem rekomendasi berbasis data akan dikembangkan agar dapat membantu pelanggan menemukan produk yang sesuai dengan selera mereka. Hasil dari tahapan ini akan dievalusi dan digunakan sebagai dasar dalam menyusun strategi pemasaran yang lebih efektif bagi bisnis kosmetik."
      ],
      "metadata": {
        "id": "vYE10ITdN2_J"
      }
    }
  ]
}